{
 "cells": [
  {
   "cell_type": "code",
   "execution_count": 39,
   "metadata": {},
   "outputs": [],
   "source": [
    "import pickle\n",
    "import numpy as np"
   ]
  },
  {
   "cell_type": "code",
   "execution_count": 40,
   "metadata": {},
   "outputs": [],
   "source": [
    "with open('trained_data.txt','rb') as f:\n",
    "    trained = pickle.load(f)"
   ]
  },
  {
   "cell_type": "code",
   "execution_count": 41,
   "metadata": {},
   "outputs": [],
   "source": [
    "def predict_genre(s, pipe_dict):\n",
    "    #s_new = clean_sentence(s)\n",
    "    genre_analyzed = []\n",
    "    proba = []\n",
    "    for genre, pipe in pipe_dict.items():\n",
    "        res = pipe.predict_proba([s])\n",
    "        genre_analyzed.append(genre)\n",
    "        proba.append(res[0][1])\n",
    "        genre_idx = np.argmax(proba)\n",
    "        \n",
    "    \n",
    "    print(genre_analyzed[genre_idx], round( max(proba) * 100, 2), \"%\")\n",
    "   "
   ]
  },
  {
   "cell_type": "code",
   "execution_count": 42,
   "metadata": {},
   "outputs": [
    {
     "name": "stdout",
     "output_type": "stream",
     "text": [
      "Crime 66.63 %\n"
     ]
    }
   ],
   "source": [
    "predict_genre(\"kill\",trained)"
   ]
  },
  {
   "cell_type": "code",
   "execution_count": null,
   "metadata": {},
   "outputs": [],
   "source": []
  }
 ],
 "metadata": {
  "kernelspec": {
   "display_name": "Python 3",
   "language": "python",
   "name": "python3"
  },
  "language_info": {
   "codemirror_mode": {
    "name": "ipython",
    "version": 3
   },
   "file_extension": ".py",
   "mimetype": "text/x-python",
   "name": "python",
   "nbconvert_exporter": "python",
   "pygments_lexer": "ipython3",
   "version": "3.6.5"
  }
 },
 "nbformat": 4,
 "nbformat_minor": 2
}
